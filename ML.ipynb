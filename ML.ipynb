{
  "nbformat": 4,
  "nbformat_minor": 0,
  "metadata": {
    "colab": {
      "name": "BCIProject.ipynb",
      "provenance": [],
      "collapsed_sections": [],
      "toc_visible": true
    },
    "kernelspec": {
      "name": "python3",
      "display_name": "Python 3"
    },
    "language_info": {
      "name": "python"
    }
  },
  "cells": [
    {
      "cell_type": "code",
      "metadata": {
        "colab": {
          "base_uri": "https://localhost:8080/"
        },
        "id": "I9JqoduZsLh2",
        "outputId": "ff14fb4d-bf5f-4cc7-eb8f-04b49c17a290"
      },
      "source": [
        "!pip install natsort"
      ],
      "execution_count": null,
      "outputs": [
        {
          "output_type": "stream",
          "text": [
            "Requirement already satisfied: natsort in /usr/local/lib/python3.7/dist-packages (5.5.0)\n"
          ],
          "name": "stdout"
        }
      ]
    },
    {
      "cell_type": "code",
      "metadata": {
        "id": "XRp34_NGsYRO"
      },
      "source": [
        "import sklearn\n",
        "import tensorflow as tf\n",
        "import scipy.io\n",
        "import numpy as np\n",
        "import os\n",
        "import natsort"
      ],
      "execution_count": null,
      "outputs": []
    },
    {
      "cell_type": "code",
      "metadata": {
        "colab": {
          "base_uri": "https://localhost:8080/"
        },
        "id": "07oIcT93svtL",
        "outputId": "18bb5267-4eb5-422b-f790-c3b868a9651f"
      },
      "source": [
        "!ls .."
      ],
      "execution_count": null,
      "outputs": [
        {
          "output_type": "stream",
          "text": [
            "bin\t datalab  home\t lib64\topt   run   sys\t\t       tools\n",
            "boot\t dev\t  lib\t media\tproc  sbin  tensorflow-1.15.2  usr\n",
            "content  etc\t  lib32  mnt\troot  srv   tmp\t\t       var\n"
          ],
          "name": "stdout"
        }
      ]
    },
    {
      "cell_type": "code",
      "metadata": {
        "id": "YDJIzVdHH6p_",
        "colab": {
          "base_uri": "https://localhost:8080/"
        },
        "outputId": "97cb9a89-dd3b-4f2c-aadc-80637ba7fb34"
      },
      "source": [
        "from google.colab import drive\n",
        "drive.mount('/content/drive')"
      ],
      "execution_count": null,
      "outputs": [
        {
          "output_type": "stream",
          "text": [
            "Mounted at /content/drive\n"
          ],
          "name": "stdout"
        }
      ]
    },
    {
      "cell_type": "code",
      "metadata": {
        "id": "Myl5WqZgs41d"
      },
      "source": [
        "DATAPATH = '/content/drive/Shareddrives/BCI_Project/session2/'"
      ],
      "execution_count": null,
      "outputs": []
    },
    {
      "cell_type": "code",
      "metadata": {
        "id": "zVAU-pAAtaoV"
      },
      "source": [
        "files = natsort.natsorted(os.listdir(DATAPATH))"
      ],
      "execution_count": null,
      "outputs": []
    },
    {
      "cell_type": "code",
      "metadata": {
        "id": "c3KPVyqV1dqG"
      },
      "source": [
        "erp_data = [f for f in files if \"ERP\" in f]\n",
        "mi_data = [f for f in files if \"MI\" in f]\n",
        "ssvep_data = [f for f in files if \"SSVEP\" in f]\n",
        "#################################################\n",
        "train_data = [(erp_data[i], mi_data[i], ssvep_data[i]) for i in range(len(erp_data)) if \"train\" in erp_data[i]]\n",
        "test_data = [(erp_data[i], mi_data[i], ssvep_data[i]) for i in range(len(erp_data)) if \"test\" in erp_data[i]]"
      ],
      "execution_count": null,
      "outputs": []
    },
    {
      "cell_type": "code",
      "metadata": {
        "id": "f03b-is3WzdC"
      },
      "source": [
        "from sklearn.preprocessing import StandardScaler\n",
        "from sklearn.decomposition import PCA\n",
        "\n",
        "def get_data_splits(files, mode):\n",
        "  full_erp_x = []\n",
        "  full_mi_x = []\n",
        "  full_ssvep_x = []\n",
        "\n",
        "  full_erp_y = []\n",
        "  full_mi_y = []\n",
        "  full_ssvep_y = []\n",
        "\n",
        "  for data in files:\n",
        "    erp_file, mi_file, ssvep_file = data\n",
        "\n",
        "    erp_mat = scipy.io.loadmat(DATAPATH + erp_file)\n",
        "    erp_x = erp_mat['save_erp_' + mode]['x'][0][0].T\n",
        "    erp_y = erp_mat['save_erp_' + mode]['y'][0][0].T\n",
        "    full_erp_x.append(erp_x)\n",
        "    full_erp_y.append(erp_y)\n",
        "\n",
        "    mi_mat = scipy.io.loadmat(DATAPATH + mi_file)\n",
        "    mi_x = mi_mat['save_mi_' + mode]['x'][0][0].T\n",
        "    mi_y = mi_mat['save_mi_' + mode]['y'][0][0].T\n",
        "    full_mi_x.append(mi_x)\n",
        "    full_mi_y.append(mi_y)\n",
        "\n",
        "    ssvep_mat = scipy.io.loadmat(DATAPATH + ssvep_file)\n",
        "    ssvep_x = ssvep_mat['save_ssvep_' + mode]['x'][0][0].T\n",
        "    ssvep_y = ssvep_mat['save_ssvep_' + mode]['y'][0][0].T\n",
        "    full_ssvep_x.append(ssvep_x)\n",
        "    full_ssvep_y.append(ssvep_y)\n",
        "\n",
        "  full_erp_x = np.concatenate(full_erp_x, axis=0)\n",
        "  full_erp_y = np.concatenate(full_erp_y, axis=0)\n",
        "  full_erp_scaled = StandardScaler().fit_transform(full_erp_x)\n",
        "  pca = PCA(n_components=20)\n",
        "  full_erp_x = pca.fit_transform(full_erp_scaled)\n",
        "\n",
        "  full_mi_x = np.concatenate(full_mi_x, axis=0)\n",
        "  full_mi_y = np.concatenate(full_mi_y, axis=0)\n",
        "  full_mi_x = StandardScaler().fit_transform(full_mi_x)\n",
        "\n",
        "  full_ssvep_x = np.concatenate(full_ssvep_x, axis=0)\n",
        "  full_ssvep_y = np.concatenate(full_ssvep_y, axis=0)\n",
        "  full_ssvep_x = StandardScaler().fit_transform(full_ssvep_x)\n",
        "  return [(full_erp_x, full_erp_y), (full_mi_x, full_mi_y), (full_ssvep_x, full_ssvep_y)]\n",
        "\n",
        "(erp_tr_x, erp_tr_y), (mi_tr_x, mi_tr_y), (ssvep_tr_x, ssvep_tr_y) = get_data_splits(train_data, 'tr')\n",
        "(erp_te_x, erp_te_y), (mi_te_x, mi_te_y), (ssvep_te_x, ssvep_te_y) = get_data_splits(test_data, 'te')"
      ],
      "execution_count": null,
      "outputs": []
    },
    {
      "cell_type": "code",
      "metadata": {
        "colab": {
          "base_uri": "https://localhost:8080/"
        },
        "id": "gPt9PwNhHgGp",
        "outputId": "a30d9959-9597-4036-ccd8-d885827a0d11"
      },
      "source": [
        "np.random.uniform(low=0, high=2, size=((5, 5)))"
      ],
      "execution_count": null,
      "outputs": [
        {
          "output_type": "execute_result",
          "data": {
            "text/plain": [
              "array([[1.55619646, 1.81004705, 1.66853387, 0.15097692, 1.77206236],\n",
              "       [0.9800789 , 0.8548925 , 0.693311  , 1.5431539 , 0.71830482],\n",
              "       [0.50629596, 1.01154298, 1.57987478, 0.34431628, 0.96691518],\n",
              "       [0.93424849, 0.10118171, 1.1386389 , 1.70995518, 1.03294881],\n",
              "       [1.11591738, 1.92628184, 1.13482986, 1.35396128, 0.72971602]])"
            ]
          },
          "metadata": {
            "tags": []
          },
          "execution_count": 9
        }
      ]
    },
    {
      "cell_type": "code",
      "metadata": {
        "id": "rWIot873bR_I"
      },
      "source": [
        "def padding(x, y, paradigm, target_dim_x=32, target_dim_y=8):\n",
        "  if paradigm == \"ERP\":\n",
        "    padding_x = np.zeros((x.shape[0], target_dim_x - x.shape[1]))\n",
        "    padding_y = np.zeros((y.shape[0], target_dim_y - y.shape[1]))\n",
        "    padded_x = np.concatenate([x, padding_x], axis=1)\n",
        "    padded_y = np.concatenate([y, padding_y], axis=1)\n",
        "  elif paradigm == \"MI\":\n",
        "    padding_x_l = np.zeros((x.shape[0], 20))\n",
        "    padding_x_r = np.zeros((x.shape[0], 4))\n",
        "    padding_y_u = np.zeros((y.shape[0], 2))\n",
        "    padding_y_d = np.zeros((y.shape[0], 4))\n",
        "    padded_x = np.concatenate([padding_x_l, x, padding_x_r], axis=1)\n",
        "    padded_y = np.concatenate([padding_y_u, y, padding_y_d], axis=1)\n",
        "  elif paradigm == \"SSVEP\":\n",
        "    padding_x = np.zeros((x.shape[0], target_dim_x - x.shape[1]))\n",
        "    padding_y = np.zeros((y.shape[0], target_dim_y - y.shape[1]))\n",
        "    padded_x = np.concatenate([padding_x, x], axis=1)\n",
        "    padded_y = np.concatenate([padding_y, y], axis=1)\n",
        "  else:\n",
        "    print(\"Unknown paradigm\")\n",
        "    return None\n",
        "  return padded_x, padded_y"
      ],
      "execution_count": null,
      "outputs": []
    },
    {
      "cell_type": "code",
      "metadata": {
        "id": "f_5jkzoodXS_"
      },
      "source": [
        "# Training data\n",
        "padded_erp_x_tr, padded_erp_y_tr = padding(erp_tr_x, erp_tr_y, \"ERP\")\n",
        "padded_mi_x_tr, padded_mi_y_tr = padding(mi_tr_x, mi_tr_y, \"MI\")\n",
        "padded_ssvep_x_tr, padded_ssvep_y_tr = padding(ssvep_tr_x, ssvep_tr_y, \"SSVEP\")\n",
        "\n",
        "# Testing data\n",
        "padded_erp_x_te, padded_erp_y_te = padding(erp_te_x, erp_te_y, \"ERP\")\n",
        "padded_mi_x_te, padded_mi_y_te = padding(mi_te_x, mi_te_y, \"MI\")\n",
        "padded_ssvep_x_te, padded_ssvep_y_te = padding(ssvep_te_x, ssvep_te_y, \"SSVEP\")"
      ],
      "execution_count": null,
      "outputs": []
    },
    {
      "cell_type": "code",
      "metadata": {
        "id": "N0EiC8nTeSyC"
      },
      "source": [
        "X_tr = np.concatenate([padded_erp_x_tr, padded_mi_x_tr, padded_ssvep_x_tr], axis=0)\n",
        "Y_tr = np.concatenate([padded_erp_y_tr, padded_mi_y_tr, padded_ssvep_y_tr], axis=0)\n",
        "Y_tr_idx = [np.argmax(y) for y in Y_tr]\n",
        "\n",
        "X_te = np.concatenate([padded_erp_x_te, padded_mi_x_te, padded_ssvep_x_te], axis=0)\n",
        "Y_te = np.concatenate([padded_erp_y_te, padded_mi_y_te, padded_ssvep_y_te], axis=0)\n",
        "Y_te_idx = [np.argmax(y) for y in Y_te]"
      ],
      "execution_count": null,
      "outputs": []
    },
    {
      "cell_type": "code",
      "metadata": {
        "id": "MrojBU4mfxyR"
      },
      "source": [
        "from sklearn.neighbors import NearestCentroid\n",
        "from sklearn.discriminant_analysis import LinearDiscriminantAnalysis\n",
        "from sklearn.model_selection import GridSearchCV\n",
        "from sklearn.model_selection import RepeatedStratifiedKFold, KFold\n",
        "from sklearn.svm import SVC\n",
        "from numpy import arange\n",
        "from sklearn.neighbors import KNeighborsClassifier\n",
        "\n",
        "cv = KFold(n_splits=10, random_state=1, shuffle=True)\n",
        "\n",
        "NCC_params = {'metric' : ['euclidean', 'manhattan'],\n",
        "              'shrink_threshold' : arange(0, 1.0, 0.1)}\n",
        "\n",
        "ncc_grid = GridSearchCV(NearestCentroid(), NCC_params, scoring='accuracy',\n",
        "                        cv=cv)\n",
        "\n",
        "LDA_params = {'solver' : ['lsqr', 'eigen'],\n",
        "              'shrinkage' : arange(0, 1.0, 0.1)}\n",
        "\n",
        "lda_grid = GridSearchCV(LinearDiscriminantAnalysis(), LDA_params,\n",
        "                        scoring='accuracy', cv=cv)\n",
        "\n",
        "SVC_params = {'C': [0.1, 1, 10, 100],  \n",
        "              'gamma': [1, 0.1, 0.01, 0.001, 0.0001], \n",
        "              'gamma':['scale', 'auto']}\n",
        "svc_grid = GridSearchCV(SVC(), SVC_params,\n",
        "                        scoring='accuracy', cv=cv, n_jobs=4)\n",
        "\n",
        "knn_params = {\n",
        "    'n_neighbors' : [3, 5, 11, 19],\n",
        "    'weights' : ['uniform', 'distance'],\n",
        "    'metric' : ['euclidean', 'manhattan']\n",
        "}\n",
        "\n",
        "knn_grid = GridSearchCV(\n",
        "                  KNeighborsClassifier(),\n",
        "                  knn_params,\n",
        "                  cv = cv, \n",
        "                  n_jobs = 4,\n",
        "                  scoring = 'accuracy', \n",
        "                  )\n"
      ],
      "execution_count": null,
      "outputs": []
    },
    {
      "cell_type": "code",
      "metadata": {
        "colab": {
          "base_uri": "https://localhost:8080/"
        },
        "id": "mnteh6FRf652",
        "outputId": "0038babc-baf4-480a-f812-91dcb36bb6b9"
      },
      "source": [
        "from sklearn.model_selection import cross_val_score\n",
        "from scipy.sparse import coo_matrix\n",
        "from sklearn.utils import shuffle\n",
        "from sklearn.metrics import accuracy_score\n",
        "\n",
        "ncc_grid.fit(X_tr, Y_tr_idx) \n",
        "ncc_cf = ncc_grid.best_estimator_\n",
        "print('NCC Score: ', round(accuracy_score(ncc_cf.predict(X_te), Y_te_idx) * 100, 2).astype(str) + '%')\n",
        "\n",
        "lda_grid.fit(X_tr, Y_tr_idx)\n",
        "lda_cf = lda_grid.best_estimator_\n",
        "print('LDA Score: ', round(accuracy_score(lda_cf.predict(X_te), Y_te_idx) * 100, 2).astype(str) + '%')\n",
        "\n",
        "svc_grid.fit(X_tr, Y_tr_idx)\n",
        "svc_cf = svc_grid.best_estimator_\n",
        "print('SVC Score: ', round(accuracy_score(svc_cf.predict(X_te), Y_te_idx) * 100, 2).astype(str) + '%')\n",
        "\n",
        "knn_grid.fit(X_tr, Y_tr_idx)\n",
        "knn_cf = knn_grid.best_estimator_\n",
        "print('KNN Score: ', round(accuracy_score(knn_cf.predict(X_te), Y_te_idx) * 100, 2).astype(str) + '%')"
      ],
      "execution_count": null,
      "outputs": [
        {
          "output_type": "stream",
          "text": [
            "NCC Score:  74.94%\n",
            "LDA Score:  71.17%\n",
            "KNN Score:  86.83%\n",
            "Best params for KNN  {'metric': 'manhattan', 'n_neighbors': 11, 'weights': 'distance'}\n"
          ],
          "name": "stdout"
        }
      ]
    },
    {
      "cell_type": "code",
      "metadata": {
        "colab": {
          "base_uri": "https://localhost:8080/",
          "height": 600
        },
        "id": "o-NHOeUjFVac",
        "outputId": "0407110d-6d98-49ed-904c-e78b97d2e91d"
      },
      "source": [
        "\n",
        "from sklearn.metrics import confusion_matrix, plot_confusion_matrix\n",
        "import matplotlib.pyplot as plt\n",
        "labels = [\"target\", \"nontarget\", \"right arm\", \"left arm\", \"up\", \"left\", \"right\", \"down\"]\n",
        "plt.rcParams.update({'font.size': 12})\n",
        "fig, axs = plt.subplots(figsize=(10, 10))\n",
        "axs[0,0].set_title(\"LDA\")\n",
        "plot_confusion_matrix(lda_cf, X_te, Y_te_idx, normalize=\"true\", ax=axs[0,0], display_labels=labels)\n",
        "axs[0,1].set_title(\"NCC\")\n",
        "plot_confusion_matrix(ncc_cf, X_te, Y_te_idx, normalize=\"true\", ax=axs[0,1], display_labels=labels)\n",
        "axs[1,0].set_title(\"SVC\")\n",
        "plot_confusion_matrix(svc_cf, X_te, Y_te_idx, normalize=\"true\", ax=axs[1,0], display_labels=labels)\n",
        "axs[1,1].set_title(\"KNN\")\n",
        "plot_confusion_matrix(knn_cf, X_te, Y_te_idx, normalize=\"true\", ax=axs[1,1], display_labels=labels)\n"
      ],
      "execution_count": null,
      "outputs": [
        {
          "output_type": "execute_result",
          "data": {
            "text/plain": [
              "<sklearn.metrics._plot.confusion_matrix.ConfusionMatrixDisplay at 0x7f14262982d0>"
            ]
          },
          "metadata": {
            "tags": []
          },
          "execution_count": 49
        },
        {
          "output_type": "display_data",
          "data": {
            "image/png": "[encoded data removed]",
            "text/plain": [
              "<Figure size 720x720 with 2 Axes>"
            ]
          },
          "metadata": {
            "tags": [],
            "needs_background": "light"
          }
        }
      ]
    }
  ]
}