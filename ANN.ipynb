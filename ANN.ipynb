{
  "nbformat": 4,
  "nbformat_minor": 0,
  "metadata": {
    "colab": {
      "name": "NeuralNet BCIProject.ipynb",
      "provenance": [],
      "collapsed_sections": []
    },
    "kernelspec": {
      "name": "python3",
      "display_name": "Python 3"
    },
    "language_info": {
      "name": "python"
    }
  },
  "cells": [
    {
      "cell_type": "code",
      "metadata": {
        "colab": {
          "base_uri": "https://localhost:8080/"
        },
        "id": "I9JqoduZsLh2",
        "outputId": "dd09f9f1-4827-4131-fd23-5da117b7419c"
      },
      "source": [
        "!pip install natsort\n",
        "#VERY VERY VERY VERY IMPORTANT CHANGE THIS, TRAIN = 1 if TRAIN ONLY, ANY OTHER VALUE TESTS SESSION2\n",
        "train = 2\n",
        "#MODE IS FOR THE DATA TYPE, 1 = PADDED WITH NOISE, 2= CONCATENATED\n",
        "mode = 2\n"
      ],
      "execution_count": 28,
      "outputs": [
        {
          "output_type": "stream",
          "text": [
            "Requirement already satisfied: natsort in /usr/local/lib/python3.7/dist-packages (5.5.0)\n"
          ],
          "name": "stdout"
        }
      ]
    },
    {
      "cell_type": "code",
      "metadata": {
        "id": "XRp34_NGsYRO"
      },
      "source": [
        "import sklearn\n",
        "import tensorflow as tf\n",
        "import scipy.io\n",
        "import numpy as np\n",
        "import os\n",
        "import natsort"
      ],
      "execution_count": 29,
      "outputs": []
    },
    {
      "cell_type": "code",
      "metadata": {
        "colab": {
          "base_uri": "https://localhost:8080/"
        },
        "id": "07oIcT93svtL",
        "outputId": "49c3f88d-50b4-41ad-d765-d627d46f1456"
      },
      "source": [
        "!ls .."
      ],
      "execution_count": 30,
      "outputs": [
        {
          "output_type": "stream",
          "text": [
            "bin\t datalab  home\t lib64\topt   run   sys\t\t       tools\n",
            "boot\t dev\t  lib\t media\tproc  sbin  tensorflow-1.15.2  usr\n",
            "content  etc\t  lib32  mnt\troot  srv   tmp\t\t       var\n"
          ],
          "name": "stdout"
        }
      ]
    },
    {
      "cell_type": "code",
      "metadata": {
        "id": "YDJIzVdHH6p_",
        "colab": {
          "base_uri": "https://localhost:8080/"
        },
        "outputId": "86b2a704-d3ed-4340-8599-a3430c3c5885"
      },
      "source": [
        "from google.colab import drive\n",
        "drive.mount('/content/drive')"
      ],
      "execution_count": 31,
      "outputs": [
        {
          "output_type": "stream",
          "text": [
            "Drive already mounted at /content/drive; to attempt to forcibly remount, call drive.mount(\"/content/drive\", force_remount=True).\n"
          ],
          "name": "stdout"
        }
      ]
    },
    {
      "cell_type": "code",
      "metadata": {
        "id": "Myl5WqZgs41d"
      },
      "source": [
        "\n",
        "if train == 1 and mode == 1:\n",
        "    DATAPATH = '/content/drive/Shareddrives/BCI_Project/bcidata_new/' #run this first\n",
        "elif train == 1 and mode ==2:\n",
        "    DATAPATH = '/content/drive/Shareddrives/BCI_Project/session1_concat/'\n",
        "elif train ==2 and mode==2:\n",
        "    DATAPATH = '/content/drive/Shareddrives/BCI_Project/session2_concat/' #try the concat session\n",
        "elif train == 2 and mode == 1:\n",
        "    DATAPATH = '/content/drive/Shareddrives/BCI_Project/session2/' #then switch to test the session2, but do not retrain the net\n",
        "else:\n",
        "    print(\"WRONG CONFIG\")"
      ],
      "execution_count": 32,
      "outputs": []
    },
    {
      "cell_type": "code",
      "metadata": {
        "id": "zVAU-pAAtaoV"
      },
      "source": [
        "files = natsort.natsorted(os.listdir(DATAPATH))"
      ],
      "execution_count": 33,
      "outputs": []
    },
    {
      "cell_type": "code",
      "metadata": {
        "id": "c3KPVyqV1dqG"
      },
      "source": [
        "erp_data = [f for f in files if \"ERP\" in f]\n",
        "mi_data = [f for f in files if \"MI\" in f]\n",
        "ssvep_data = [f for f in files if \"SSVEP\" in f]\n",
        "#################################################\n",
        "train_data = [(erp_data[i], mi_data[i], ssvep_data[i]) for i in range(len(erp_data)) if \"train\" in erp_data[i]]\n",
        "test_data = [(erp_data[i], mi_data[i], ssvep_data[i]) for i in range(len(erp_data)) if \"test\" in erp_data[i]]"
      ],
      "execution_count": 34,
      "outputs": []
    },
    {
      "cell_type": "code",
      "metadata": {
        "id": "VCxY0-Jz-N_h",
        "colab": {
          "base_uri": "https://localhost:8080/"
        },
        "outputId": "dab0ffbf-dc7b-4f7b-cd6b-4fd1b5105d01"
      },
      "source": [
        "mi_sample = scipy.io.loadmat(DATAPATH + mi_data[0])\n",
        "ssvep_sample = scipy.io.loadmat(DATAPATH + ssvep_data[0])\n",
        "erp_sample = scipy.io.loadmat(DATAPATH + erp_data[0])\n",
        "\n",
        "mi_x = mi_sample['save_mi_te']['x'][0][0]\n",
        "ssvep_x = ssvep_sample['save_ssvep_te']['x'][0][0]\n",
        "erp_x = erp_sample['save_erp_te']['x'][0][0]\n",
        "\n",
        "print(erp_x.shape, mi_x.shape, ssvep_x.shape)"
      ],
      "execution_count": 35,
      "outputs": [
        {
          "output_type": "stream",
          "text": [
            "(122, 100) (122, 100) (122, 100)\n"
          ],
          "name": "stdout"
        }
      ]
    },
    {
      "cell_type": "code",
      "metadata": {
        "colab": {
          "base_uri": "https://localhost:8080/"
        },
        "id": "KkHdGZ1B6_Nm",
        "outputId": "5bb28b98-7888-4220-f1bb-a52e98c06175"
      },
      "source": [
        "ssvep_x"
      ],
      "execution_count": 36,
      "outputs": [
        {
          "output_type": "execute_result",
          "data": {
            "text/plain": [
              "array([[7.68, 12.31, -4.11, ..., 28.00, -7.64, -10.56],\n",
              "       [9.15, 32.17, 15.16, ..., 36.14, 2.01, 0.06],\n",
              "       [2.07, 4.46, 4.45, ..., 38.72, 29.81, -23.44],\n",
              "       ...,\n",
              "       [0.27, 0.22, 0.24, ..., 0.74, 0.53, 0.32],\n",
              "       [0.25, 0.30, 0.27, ..., 0.20, 0.17, 0.42],\n",
              "       [0.26, 0.65, 0.32, ..., 0.33, 0.37, 0.40]])"
            ]
          },
          "metadata": {
            "tags": []
          },
          "execution_count": 36
        }
      ]
    },
    {
      "cell_type": "code",
      "metadata": {
        "id": "FZpNQi4v8rbg"
      },
      "source": [
        "assert len(train_data) == len(test_data)"
      ],
      "execution_count": 37,
      "outputs": []
    },
    {
      "cell_type": "code",
      "metadata": {
        "id": "FSiMMFXc2LVt"
      },
      "source": [
        "assert len(erp_data) == len(mi_data) == len(ssvep_data)"
      ],
      "execution_count": 38,
      "outputs": []
    },
    {
      "cell_type": "code",
      "metadata": {
        "id": "JRr0mwPS2WsP"
      },
      "source": [
        "def padd_noised_x(arr, target_dim=110):\n",
        "  target_dim = 110\n",
        "  diff = target_dim - arr.shape[0]\n",
        "  if diff > 0:\n",
        "    padding = np.random.uniform(low =0, high = 2, size=(diff,arr.shape[1]))\n",
        "    padded = np.concatenate([arr, padding], axis=0)\n",
        "  else:\n",
        "    padded = arr.copy()\n",
        "  return padded\n",
        "\n",
        "def padd_noised_x_alt(arr, paradigm):\n",
        "  if paradigm == \"ERP\":\n",
        "    padding = np.random.uniform(low =0, high = 2, size=(122 - arr.shape[0], arr.shape[1]))\n",
        "    padded = np.concatenate([arr, padding], axis=0)\n",
        "  elif paradigm == \"MI\":\n",
        "    padding_left = np.random.uniform(low =0, high = 2, size=(110, arr.shape[1]))\n",
        "    padding_right = np.random.uniform(low =0, high = 2, size=(4, arr.shape[1]))\n",
        "    padded = np.concatenate([padding_left, arr, padding_right],\n",
        "                            axis=0)\n",
        "  elif paradigm == \"SSVEP\":\n",
        "    padding = np.random.uniform(low =0, high = 2, size=(122 - arr.shape[0], arr.shape[1]))\n",
        "    padded = np.concatenate([padding, arr], axis=0)\n",
        "  else:\n",
        "    print(\"Unknown paradigm\")\n",
        "    return None\n",
        "  return padded\n",
        "\n",
        "def padd_zeros_y(arr, paradigm):\n",
        "  if paradigm == \"ERP\":\n",
        "    padding = np.zeros((6, arr.shape[1]))\n",
        "    padded = np.concatenate([arr, padding], axis=0)\n",
        "  elif paradigm == \"MI\":\n",
        "    padding_up = np.zeros((2, arr.shape[1]))\n",
        "    padding_down = np.zeros((4, arr.shape[1]))\n",
        "    padded = np.concatenate([padding_up, arr, padding_down],\n",
        "                            axis=0)\n",
        "  elif paradigm == \"SSVEP\":\n",
        "    padding = np.zeros((4, arr.shape[1]))\n",
        "    padded = np.concatenate([padding, arr], axis=0)\n",
        "  else:\n",
        "    print(\"Unknown paradigm\")\n",
        "    return None\n",
        "  return padded"
      ],
      "execution_count": 39,
      "outputs": []
    },
    {
      "cell_type": "code",
      "metadata": {
        "id": "t2YyIWqX3nkj"
      },
      "source": [
        "# Training data\n",
        "train_x = []\n",
        "train_y = []\n",
        "for data in train_data:\n",
        "  erp_file, mi_file, ssvep_file = data\n",
        "\n",
        "  erp_mat = scipy.io.loadmat(DATAPATH + erp_file)\n",
        "  # erp_x = erp_mat['save_erp_tr']['x'][0][0]\n",
        "  if mode!=2:\n",
        "      erp_x = padd_noised_x_alt(erp_mat['save_erp_tr']['x'][0][0], \"ERP\")\n",
        "  else:\n",
        "      erp_x = erp_mat['save_erp_tr']['x'][0][0]\n",
        "  erp_y = padd_zeros_y(erp_mat['save_erp_tr']['y'][0][0], \"ERP\")\n",
        "\n",
        "  mi_mat = scipy.io.loadmat(DATAPATH + mi_file)\n",
        "  # mi_x = padd_zeros_x(mi_mat['save_mi_tr']['x'][0][0])\n",
        "  if mode!=2 :\n",
        "      mi_x = padd_noised_x_alt(mi_mat['save_mi_tr']['x'][0][0], \"MI\")\n",
        "  else:\n",
        "      mi_x = mi_mat['save_mi_tr']['x'][0][0]\n",
        "  mi_y = padd_zeros_y(mi_mat['save_mi_tr']['y'][0][0], \"MI\")\n",
        "\n",
        "  ssvep_mat = scipy.io.loadmat(DATAPATH + ssvep_file)\n",
        "  # ssvep_x = padd_zeros_x(ssvep_mat['save_ssvep_tr']['x'][0][0])\n",
        "  if mode!=2:\n",
        "      ssvep_x = padd_noised_x_alt(ssvep_mat['save_ssvep_tr']['x'][0][0], \"SSVEP\")\n",
        "  else:\n",
        "      ssvep_x = ssvep_mat['save_ssvep_tr']['x'][0][0]\n",
        "  ssvep_y = padd_zeros_y(ssvep_mat['save_ssvep_tr']['y'][0][0], \"SSVEP\")\n",
        "  \n",
        "  \n",
        "  X = np.concatenate([erp_x, mi_x, ssvep_x], axis=1)\n",
        "  Y = np.concatenate([erp_y, mi_y, ssvep_y], axis=1)\n",
        "\n",
        "  train_x.append(X)\n",
        "  train_y.append(Y)\n",
        "\n",
        "# Testing data\n",
        "test_x = []\n",
        "test_y = []\n",
        "for data in test_data:\n",
        "  erp_file, mi_file, ssvep_file = data\n",
        "\n",
        "  erp_mat = scipy.io.loadmat(DATAPATH + erp_file)\n",
        "  # erp_x = erp_mat['save_erp_te']['x'][0][0]\n",
        "  if mode!=2:\n",
        "      erp_x = padd_noised_x_alt(erp_mat['save_erp_te']['x'][0][0], \"ERP\")\n",
        "  else:\n",
        "      erp_x = erp_mat['save_erp_te']['x'][0][0]\n",
        "  erp_y = padd_zeros_y(erp_mat['save_erp_te']['y'][0][0], \"ERP\")\n",
        "\n",
        "  mi_mat = scipy.io.loadmat(DATAPATH + mi_file)\n",
        "  # mi_x = padd_zeros_x(mi_mat['save_mi_te']['x'][0][0])\n",
        "  if mode!=2:\n",
        "      mi_x = padd_noised_x_alt(mi_mat['save_mi_te']['x'][0][0], \"MI\")\n",
        "  else:\n",
        "      mi_x = mi_mat['save_mi_te']['x'][0][0]\n",
        "  mi_y = padd_zeros_y(mi_mat['save_mi_te']['y'][0][0], \"MI\")\n",
        "\n",
        "  ssvep_mat = scipy.io.loadmat(DATAPATH + ssvep_file)\n",
        "  # ssvep_x = padd_zeros_x(ssvep_mat['save_ssvep_te']['x'][0][0])\n",
        "  if mode!=2:\n",
        "      ssvep_x = padd_noised_x_alt(ssvep_mat['save_ssvep_te']['x'][0][0], \"SSVEP\")\n",
        "  else:\n",
        "      ssvep_x = ssvep_mat['save_ssvep_te']['x'][0][0]\n",
        "  ssvep_y = padd_zeros_y(ssvep_mat['save_ssvep_te']['y'][0][0], \"SSVEP\")\n",
        "\n",
        "  X = np.concatenate([erp_x, mi_x, ssvep_x], axis=1)\n",
        "  Y = np.concatenate([erp_y, mi_y, ssvep_y], axis=1)\n",
        "\n",
        "  test_x.append(X)\n",
        "  test_y.append(Y)"
      ],
      "execution_count": 40,
      "outputs": []
    },
    {
      "cell_type": "code",
      "metadata": {
        "id": "G5WDnvGR9M97"
      },
      "source": [
        "X_tr = np.concatenate(train_x, axis=1).T\n",
        "Y_tr = np.concatenate(train_y, axis=1).T\n",
        "Y_tr = [np.argmax(el) for el in Y_tr]\n",
        "\n",
        "X_te = np.concatenate(test_x, axis=1).T\n",
        "Y_te = np.concatenate(test_y, axis=1).T\n",
        "Y_te = [np.argmax(el) for el in Y_te]"
      ],
      "execution_count": 41,
      "outputs": []
    },
    {
      "cell_type": "code",
      "metadata": {
        "id": "lOho7LPzRSZ5"
      },
      "source": [
        "from sklearn.preprocessing import StandardScaler, RobustScaler\n",
        "\n",
        "std_scaler = StandardScaler()\n",
        "rob_scaler = RobustScaler()\n",
        "\n",
        "X_tr_scaled = rob_scaler.fit_transform(X_tr)\n",
        "X_te_scaled = rob_scaler.fit_transform(X_te)"
      ],
      "execution_count": 42,
      "outputs": []
    },
    {
      "cell_type": "code",
      "metadata": {
        "id": "by8Yj-NJQrBL",
        "colab": {
          "base_uri": "https://localhost:8080/"
        },
        "outputId": "3e2d0d35-8470-471c-ea37-2639b49e5535"
      },
      "source": [
        "train_size = len(X_tr_scaled)\n",
        "y_vector = np.concatenate(train_y, axis=1).T\n",
        "print(X_tr_scaled[1000],y_vector[1000])\n",
        "print(train_size)"
      ],
      "execution_count": 43,
      "outputs": [
        {
          "output_type": "stream",
          "text": [
            "[0.82 1.10 0.70 0.68 0.76 1.07 0.57 0.67 0.61 0.85 1.04 1.05 0.47 0.42\n",
            " 0.56 1.00 0.48 0.61 0.47 0.78 0.89 0.94 0.52 0.40 0.59 0.96 0.44 0.50\n",
            " 0.47 0.83 0.75 0.76 0.49 0.45 0.55 0.87 0.44 0.42 0.58 0.80 0.92 0.65\n",
            " 0.27 0.11 0.38 0.77 0.34 0.39 0.36 0.59 0.79 0.97 0.57 0.52 0.68 0.97\n",
            " 0.47 0.49 0.64 0.81 0.93 0.79 0.34 0.23 0.53 0.92 0.40 0.42 0.32 0.64\n",
            " 0.88 0.89 0.63 0.39 0.53 0.79 0.18 0.21 0.52 0.77 0.53 0.51 0.22 0.10\n",
            " 0.29 0.37 0.12 0.11 0.37 0.47 0.46 0.39 0.21 0.15 0.33 0.33 0.16 0.16\n",
            " 0.54 0.61 0.63 0.48 0.11 -0.12 0.25 0.57 0.38 0.31 0.41 0.47 0.08 -0.38\n",
            " 0.07 0.16 2.34 2.31 1.88 2.56 0.28 -0.04 -0.11 -1.10] [0.00 0.00 0.00 1.00 0.00 0.00 0.00 0.00]\n",
            "16200\n"
          ],
          "name": "stdout"
        }
      ]
    },
    {
      "cell_type": "code",
      "metadata": {
        "id": "Lwf16wT_UEyM"
      },
      "source": [
        "import torch\n",
        "import torchvision\n",
        "import torchvision.transforms as transforms"
      ],
      "execution_count": 44,
      "outputs": []
    },
    {
      "cell_type": "code",
      "metadata": {
        "id": "13pgkGiKYW_G",
        "colab": {
          "base_uri": "https://localhost:8080/"
        },
        "outputId": "c8924ca5-9f63-45b7-f191-7c6c2fd89615"
      },
      "source": [
        "classes = [\"target\", \"nontarget\", \"right arm\", \"left arm\", \"up\", \"left\", \"right\", \"down\"]\n",
        "device = 'cuda' if torch.cuda.is_available() else 'cpu'\n",
        "print('Using {} device'.format(device))\n",
        "feature_size, output_size = X_tr_scaled.shape[1], y_vector.shape[1]\n",
        "print(feature_size,output_size)\n",
        "if train ==1:\n",
        "    print('TRAINING')\n",
        "else:\n",
        "    print(\"WE ARE NOT TRAINING ON SESSION1, THIS IS SESSION 2\")"
      ],
      "execution_count": 45,
      "outputs": [
        {
          "output_type": "stream",
          "text": [
            "Using cpu device\n",
            "122 8\n",
            "WE ARE NOT TRAINING ON SESSION1, THIS IS SESSION 2\n"
          ],
          "name": "stdout"
        }
      ]
    },
    {
      "cell_type": "code",
      "metadata": {
        "id": "2WL3juS39FB9",
        "colab": {
          "base_uri": "https://localhost:8080/"
        },
        "outputId": "8eea5d1c-517b-4f68-a1f3-b075799c41b5"
      },
      "source": [
        "import torch.nn as nn\n",
        "import torch.nn.functional as F\n",
        "\n",
        "class Net(nn.Module):\n",
        "    def __init__(self):\n",
        "        super().__init__()\n",
        "        self.fc1 = nn.Linear(feature_size, feature_size*4)\n",
        "        self.fc2 = nn.Linear(feature_size*4, feature_size*3)\n",
        "        self.fc3 = nn.Linear(feature_size*3, feature_size*2)\n",
        "        self.fc4 = nn.Linear(feature_size*2, output_size)\n",
        "\n",
        "    def forward(self, x):\n",
        "        x = F.relu(self.fc1(x))\n",
        "        x = F.relu(self.fc2(x))\n",
        "        x = F.relu(self.fc3(x))\n",
        "        x = self.fc4(x)\n",
        "        #x = torch.sigmoid(x)\n",
        "        return x\n",
        "\n",
        "if train ==1:\n",
        "    print('TRAINING')\n",
        "    net = Net()\n",
        "else:\n",
        "    print(\"WE ARE NOT TRAINING ON SESSION1, THIS IS SESSION 2\")"
      ],
      "execution_count": 46,
      "outputs": [
        {
          "output_type": "stream",
          "text": [
            "WE ARE NOT TRAINING ON SESSION1, THIS IS SESSION 2\n"
          ],
          "name": "stdout"
        }
      ]
    },
    {
      "cell_type": "code",
      "metadata": {
        "id": "ykNinIaeBe0L",
        "colab": {
          "base_uri": "https://localhost:8080/"
        },
        "outputId": "b3ac9912-001e-412b-c81e-64c318a2e9f1"
      },
      "source": [
        "import torch.optim as optim\n",
        "\n",
        "if train ==1:\n",
        "    print('TRAINING')\n",
        "    criterion = nn.CrossEntropyLoss()\n",
        "    optimizer = optim.SGD(net.parameters(), lr=0.0008, momentum=0.98)\n",
        "else:\n",
        "    print(\"WE ARE NOT TRAINING ON SESSION1, THIS IS SESSION 2\")"
      ],
      "execution_count": 47,
      "outputs": [
        {
          "output_type": "stream",
          "text": [
            "WE ARE NOT TRAINING ON SESSION1, THIS IS SESSION 2\n"
          ],
          "name": "stdout"
        }
      ]
    },
    {
      "cell_type": "code",
      "metadata": {
        "colab": {
          "base_uri": "https://localhost:8080/"
        },
        "id": "7V9hTN5gCf9i",
        "outputId": "2e7d80a6-dcea-4889-b581-02c91952900b"
      },
      "source": [
        "if train==1:\n",
        "    if mode ==2:\n",
        "        batch_size = 200\n",
        "        epochs = 50\n",
        "    else:\n",
        "        batch_size = 20\n",
        "        epochs = 15\n",
        "    for epoch in range(epochs):  # loop over the dataset multiple times\n",
        "        running_loss = 0.0\n",
        "        batch_count = train_size/batch_size\n",
        "        for i in range(int(batch_count)):\n",
        "\n",
        "            torched_x = torch.FloatTensor(X_tr_scaled[i*batch_size:(i+1)*batch_size])\n",
        "            torched_y = torch.tensor(Y_tr[i*batch_size:(i+1)*batch_size]).long()\n",
        "\n",
        "            # zero the parameter gradients\n",
        "            optimizer.zero_grad()\n",
        "\n",
        "            # forward + backward + optimize\n",
        "            outputs = net(torched_x)\n",
        "            loss = criterion(outputs, torched_y)\n",
        "            loss.backward()\n",
        "            optimizer.step()\n",
        "\n",
        "            # print statistics\n",
        "            running_loss += loss.item()\n",
        "            if i == batch_count-1:    # print every 5000 mini-batches\n",
        "                print('[epoch %d] loss: %.3f' % (epoch + 1, running_loss / train_size))\n",
        "                running_loss = 0.0\n",
        "\n",
        "    print('Finished Training')\n",
        "else:\n",
        "    print(\"WE ARE NOT TRAINING ON SESSION1, THIS IS SESSION 2\")\n"
      ],
      "execution_count": 48,
      "outputs": [
        {
          "output_type": "stream",
          "text": [
            "WE ARE NOT TRAINING ON SESSION1, THIS IS SESSION 2\n"
          ],
          "name": "stdout"
        }
      ]
    },
    {
      "cell_type": "code",
      "metadata": {
        "colab": {
          "base_uri": "https://localhost:8080/"
        },
        "id": "Q8c7rYldGejU",
        "outputId": "c6eafa3f-8f20-4121-bf30-70f50dc1a11b"
      },
      "source": [
        "hits = 0\n",
        "predictions = []\n",
        "test_length = len(X_te_scaled)\n",
        "for i in range(test_length):\n",
        "    test_x = torch.FloatTensor([X_te_scaled[i]])\n",
        "    test_y = Y_te[i]\n",
        "    test_outputs = net(test_x).tolist()\n",
        "    value = [np.argmax(el) for el in test_outputs][0]\n",
        "    predictions.append(value)\n",
        "    if test_y == value:\n",
        "        hits+=1\n",
        "\n",
        "print(\"There are\",hits,\"hits out of\",test_length)\n",
        "print(hits/test_length)\n",
        "if train ==1:\n",
        "    print('TRAINING')\n",
        "else:\n",
        "    print(\"WE ARE NOT TRAINING ON SESSION1, THIS IS SESSION 2\")"
      ],
      "execution_count": 49,
      "outputs": [
        {
          "output_type": "stream",
          "text": [
            "There are 11351 hits out of 16200\n",
            "0.700679012345679\n",
            "WE ARE NOT TRAINING ON SESSION1, THIS IS SESSION 2\n"
          ],
          "name": "stdout"
        }
      ]
    },
    {
      "cell_type": "code",
      "metadata": {
        "colab": {
          "base_uri": "https://localhost:8080/"
        },
        "id": "hEHwDoBM2Gc_",
        "outputId": "5aad8e96-a23d-47e4-f5de-0df44ff2cc94"
      },
      "source": [
        "#Example usage\n",
        "import random\n",
        "for i in range(10):\n",
        "    index = random.randint(0, test_length-1)\n",
        "    test_x = torch.FloatTensor([X_te_scaled[index]])\n",
        "    test_y = Y_te[index]\n",
        "    test_outputs = net(test_x).tolist()\n",
        "    value = [np.argmax(el) for el in test_outputs][0]\n",
        "    print(classes[value], value, test_y,classes[test_y])\n",
        "if train ==1:\n",
        "    print('TRAINING')\n",
        "else:\n",
        "    print(\"WE ARE NOT TRAINING ON SESSION1, THIS IS SESSION 2\")"
      ],
      "execution_count": 50,
      "outputs": [
        {
          "output_type": "stream",
          "text": [
            "left arm 3 6 right\n",
            "nontarget 1 1 nontarget\n",
            "nontarget 1 1 nontarget\n",
            "down 7 1 nontarget\n",
            "right 6 6 right\n",
            "down 7 7 down\n",
            "up 4 4 up\n",
            "right arm 2 2 right arm\n",
            "right arm 2 2 right arm\n",
            "nontarget 1 1 nontarget\n",
            "WE ARE NOT TRAINING ON SESSION1, THIS IS SESSION 2\n"
          ],
          "name": "stdout"
        }
      ]
    },
    {
      "cell_type": "code",
      "metadata": {
        "colab": {
          "base_uri": "https://localhost:8080/"
        },
        "id": "5GsbhtJQE9Wm",
        "outputId": "2aae67f5-c907-48a9-cc2d-78e88ab0d82f"
      },
      "source": [
        "from sklearn.metrics import confusion_matrix\n",
        "float_formatter = \"{:.2f}\".format\n",
        "np.set_printoptions(formatter={'float_kind':float_formatter})\n",
        "conf_matrix = confusion_matrix(Y_te, predictions, normalize = 'pred')\n",
        "\n",
        "conf_matrix"
      ],
      "execution_count": 51,
      "outputs": [
        {
          "output_type": "execute_result",
          "data": {
            "text/plain": [
              "array([[0.25, 0.12, 0.04, 0.03, 0.00, 0.00, 0.01, 0.02],\n",
              "       [0.16, 0.60, 0.16, 0.15, 0.02, 0.03, 0.03, 0.09],\n",
              "       [0.31, 0.12, 0.66, 0.16, 0.03, 0.01, 0.03, 0.05],\n",
              "       [0.20, 0.12, 0.08, 0.59, 0.00, 0.04, 0.02, 0.04],\n",
              "       [0.00, 0.01, 0.01, 0.01, 0.94, 0.01, 0.00, 0.00],\n",
              "       [0.00, 0.01, 0.01, 0.02, 0.00, 0.90, 0.00, 0.01],\n",
              "       [0.02, 0.01, 0.01, 0.01, 0.00, 0.00, 0.91, 0.00],\n",
              "       [0.05, 0.02, 0.02, 0.02, 0.01, 0.01, 0.01, 0.79]])"
            ]
          },
          "metadata": {
            "tags": []
          },
          "execution_count": 51
        }
      ]
    },
    {
      "cell_type": "code",
      "metadata": {
        "colab": {
          "base_uri": "https://localhost:8080/",
          "height": 599
        },
        "id": "vJeIYWr7F-Ps",
        "outputId": "42ad4988-d1ef-483b-9f6f-05fb2c48f56a"
      },
      "source": [
        "import seaborn as sns\n",
        "import matplotlib.pyplot as plt\n",
        "\n",
        "fig, ax = plt.subplots(figsize=(10,10))  \n",
        "sns.heatmap(conf_matrix,  xticklabels = classes, yticklabels = classes, annot=True, cmap=\"viridis\", square=True, ax=ax)\n",
        "plt.show"
      ],
      "execution_count": 52,
      "outputs": [
        {
          "output_type": "execute_result",
          "data": {
            "text/plain": [
              "<function matplotlib.pyplot.show>"
            ]
          },
          "metadata": {
            "tags": []
          },
          "execution_count": 52
        },
        {
          "output_type": "display_data",
          "data": {
            "image/png": "[encoded data removed]",
            "text/plain": [
              "<Figure size 720x720 with 2 Axes>"
            ]
          },
          "metadata": {
            "tags": [],
            "needs_background": "light"
          }
        }
      ]
    },
    {
      "cell_type": "code",
      "metadata": {
        "id": "DNFQn2XbqBrA"
      },
      "source": [
        "Y_te_class = []\n",
        "predictions_class=[]\n",
        "for i in range(len(Y_te)):\n",
        "    if Y_te[i] ==0 or Y_te[i] ==1:\n",
        "        Y_te_class.append(0)\n",
        "    elif Y_te[i] ==2 or Y_te[i] ==3:\n",
        "        Y_te_class.append(1)\n",
        "    else:\n",
        "        Y_te_class.append(2)\n",
        "\n",
        "    if predictions[i] ==0 or predictions[i] ==1:\n",
        "        predictions_class.append(0)\n",
        "    elif predictions[i] ==2 or predictions[i] ==3:\n",
        "        predictions_class.append(1)\n",
        "    else:\n",
        "        predictions_class.append(2)"
      ],
      "execution_count": 53,
      "outputs": []
    },
    {
      "cell_type": "code",
      "metadata": {
        "colab": {
          "base_uri": "https://localhost:8080/",
          "height": 593
        },
        "id": "LW6yx9xEECk0",
        "outputId": "3b702dd4-4a76-44f1-b4fb-9bce49f91704"
      },
      "source": [
        "conf_matrix2 = confusion_matrix(Y_te_class, predictions_class, normalize = 'pred')\n",
        "classes2 = [\"ERP\",\"MI\",\"SSVEP\"]\n",
        "fig, ax = plt.subplots(figsize=(10,10))  \n",
        "sns.heatmap(conf_matrix2,  xticklabels = classes2, yticklabels = classes2, annot=True, cmap=\"viridis\", square=True, ax=ax, annot_kws={\"size\": 35 / np.sqrt(len(conf_matrix2))})\n",
        "\n",
        "plt.show"
      ],
      "execution_count": 54,
      "outputs": [
        {
          "output_type": "execute_result",
          "data": {
            "text/plain": [
              "<function matplotlib.pyplot.show>"
            ]
          },
          "metadata": {
            "tags": []
          },
          "execution_count": 54
        },
        {
          "output_type": "display_data",
          "data": {
            "image/png": "[encoded data removed]",
            "text/plain": [
              "<Figure size 720x720 with 2 Axes>"
            ]
          },
          "metadata": {
            "tags": [],
            "needs_background": "light"
          }
        }
      ]
    }
  ]
}